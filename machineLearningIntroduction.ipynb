{
  "nbformat": 4,
  "nbformat_minor": 0,
  "metadata": {
    "colab": {
      "provenance": [],
      "authorship_tag": "ABX9TyOvPS5By24oaGC6BFPFRaeb",
      "include_colab_link": true
    },
    "kernelspec": {
      "name": "python3",
      "display_name": "Python 3"
    },
    "language_info": {
      "name": "python"
    }
  },
  "cells": [
    {
      "cell_type": "markdown",
      "metadata": {
        "id": "view-in-github",
        "colab_type": "text"
      },
      "source": [
        "<a href=\"https://colab.research.google.com/github/leonamcassemir0/python-projects/blob/main/machineLearningIntroduction.ipynb\" target=\"_parent\"><img src=\"https://colab.research.google.com/assets/colab-badge.svg\" alt=\"Open In Colab\"/></a>"
      ]
    },
    {
      "cell_type": "code",
      "execution_count": 1,
      "metadata": {
        "id": "ZHugP3WDsOhW"
      },
      "outputs": [],
      "source": [
        "import tensorflow as tf"
      ]
    },
    {
      "cell_type": "code",
      "source": [
        "string = tf.Variable(\"This is string\", tf.string)\n",
        "number = tf.Variable(324, tf.int16)\n",
        "floating = tf.Variable(3.567, tf.float64)\n",
        "print(string, number, floating)"
      ],
      "metadata": {
        "colab": {
          "base_uri": "https://localhost:8080/"
        },
        "id": "WWd1C4CrseIj",
        "outputId": "dfa5cd08-34ba-45a5-eb13-ad935f626e3d"
      },
      "execution_count": 2,
      "outputs": [
        {
          "output_type": "stream",
          "name": "stdout",
          "text": [
            "<tf.Variable 'Variable:0' shape=() dtype=string, numpy=b'This is string'> <tf.Variable 'Variable:0' shape=() dtype=int32, numpy=324> <tf.Variable 'Variable:0' shape=() dtype=float32, numpy=3.567>\n"
          ]
        }
      ]
    },
    {
      "cell_type": "code",
      "source": [
        "rank2_tensor = tf.Variable([[\"test\", \"ok\"], [\"test\", \"yes\"]], tf.string)\n",
        "tf.rank(rank2_tensor)"
      ],
      "metadata": {
        "colab": {
          "base_uri": "https://localhost:8080/"
        },
        "id": "z2S-PTEHtLCm",
        "outputId": "2a645bfb-2df5-498f-fa26-562ce1b2e121"
      },
      "execution_count": 3,
      "outputs": [
        {
          "output_type": "execute_result",
          "data": {
            "text/plain": [
              "<tf.Tensor: shape=(), dtype=int32, numpy=2>"
            ]
          },
          "metadata": {},
          "execution_count": 3
        }
      ]
    },
    {
      "cell_type": "code",
      "source": [
        "rank2_tensor.shape\n",
        "\n",
        "tensor1 = tf.ones([1, 2, 3])\n",
        "# tensor2 = tf.reshape(tensor1, [2, 3, 1])\n",
        "# tensor3 = tf.reshape(tensor2, [3, -1])\n",
        "# print(tensor1)\n",
        "\n",
        "tensor_t = tf.fill([3, 3, 5], 6)\n",
        "print(tensor_t)"
      ],
      "metadata": {
        "colab": {
          "base_uri": "https://localhost:8080/"
        },
        "id": "B9UZQ1g8uPyZ",
        "outputId": "c54091e9-b3e0-4a2b-8ef3-867cc34c6277"
      },
      "execution_count": 16,
      "outputs": [
        {
          "output_type": "stream",
          "name": "stdout",
          "text": [
            "tf.Tensor(\n",
            "[[[6 6 6 6 6]\n",
            "  [6 6 6 6 6]\n",
            "  [6 6 6 6 6]]\n",
            "\n",
            " [[6 6 6 6 6]\n",
            "  [6 6 6 6 6]\n",
            "  [6 6 6 6 6]]\n",
            "\n",
            " [[6 6 6 6 6]\n",
            "  [6 6 6 6 6]\n",
            "  [6 6 6 6 6]]], shape=(3, 3, 5), dtype=int32)\n"
          ]
        }
      ]
    }
  ]
}